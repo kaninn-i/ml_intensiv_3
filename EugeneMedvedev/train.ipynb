{
 "cells": [
  {
   "cell_type": "markdown",
   "id": "7f01693d",
   "metadata": {},
   "source": [
    "# 📊 Анализ данных и прогнозирование цен на арматуру\n",
    "В этом ноутбуке мы проведем анализ данных, подготовим признаки и обучим модели для предсказания цен на арматуру.\n",
    "\n",
    "**Методы:**\n",
    "- 📈 Анализ и визуализация данных\n",
    "- 🔄 Проверка стационарности ряда\n",
    "- 🏗 Создание новых признаков\n",
    "- 🤖 Обучение моделей (LightGBM и LSTM)\n",
    "- 📊 Оценка качества предсказаний"
   ]
  },
  {
   "cell_type": "code",
   "execution_count": null,
   "id": "5589aafc",
   "metadata": {},
   "outputs": [],
   "source": [
    "\n",
    "import pandas as pd\n",
    "import numpy as np\n",
    "import matplotlib.pyplot as plt\n",
    "import seaborn as sns\n",
    "\n",
    "# Загрузка данных\n",
    "train_df = pd.read_excel(\"train.xlsx\")\n",
    "test_df = pd.read_excel(\"test.xlsx\")\n",
    "fuel_df = pd.read_excel(\"Топливо.xlsx\")\n",
    "metal_df = pd.read_excel(\"Показатели рынка металла.xlsx\")\n",
    "\n",
    "# Преобразуем даты\n",
    "train_df[\"dt\"] = pd.to_datetime(train_df[\"dt\"], errors=\"coerce\")\n",
    "test_df[\"dt\"] = pd.to_datetime(test_df[\"dt\"], errors=\"coerce\")\n",
    "\n",
    "# Вывод первых строк\n",
    "train_df.head()\n"
   ]
  },
  {
   "cell_type": "markdown",
   "id": "f44ba810",
   "metadata": {},
   "source": [
    "## 📊 Первичный анализ данных"
   ]
  },
  {
   "cell_type": "code",
   "execution_count": null,
   "id": "f3caeb72",
   "metadata": {},
   "outputs": [],
   "source": [
    "\n",
    "# Проверка структуры данных\n",
    "print(\"Train dataset shape:\", train_df.shape)\n",
    "print(\"Test dataset shape:\", test_df.shape)\n",
    "print(\"Fuel dataset shape:\", fuel_df.shape)\n",
    "print(\"Metal dataset shape:\", metal_df.shape)\n",
    "\n",
    "# Проверяем пропущенные значения\n",
    "print(\"\n",
    "Пропущенные значения в train:\")\n",
    "print(train_df.isnull().sum())\n",
    "\n",
    "# Статистическое описание данных\n",
    "train_df.describe()\n"
   ]
  },
  {
   "cell_type": "markdown",
   "id": "8f7b310e",
   "metadata": {},
   "source": [
    "## 📈 Динамика цен на арматуру"
   ]
  },
  {
   "cell_type": "code",
   "execution_count": null,
   "id": "e0d77418",
   "metadata": {},
   "outputs": [],
   "source": [
    "\n",
    "plt.figure(figsize=(12, 6))\n",
    "plt.plot(train_df[\"dt\"], train_df[\"Цена на арматуру\"], label=\"Цена на арматуру\", marker=\"o\")\n",
    "plt.xlabel(\"Дата\")\n",
    "plt.ylabel(\"Цена\")\n",
    "plt.title(\"Динамика цен на арматуру (2015-2023)\")\n",
    "plt.legend()\n",
    "plt.grid()\n",
    "plt.show()\n"
   ]
  },
  {
   "cell_type": "markdown",
   "id": "b6c1f2f5",
   "metadata": {},
   "source": [
    "## 🔍 Корреляция цен с макропоказателями"
   ]
  },
  {
   "cell_type": "code",
   "execution_count": null,
   "id": "89f81048",
   "metadata": {},
   "outputs": [],
   "source": [
    "\n",
    "merged_df = train_df.merge(fuel_df, on=\"dt\", how=\"left\").merge(metal_df, on=\"dt\", how=\"left\")\n",
    "numeric_df = merged_df.select_dtypes(include=[np.number])\n",
    "correlation = numeric_df.corr()[\"Цена на арматуру\"].sort_values(ascending=False)\n",
    "\n",
    "plt.figure(figsize=(10, 6))\n",
    "sns.barplot(x=correlation[:10].index, y=correlation[:10].values)\n",
    "plt.xticks(rotation=90)\n",
    "plt.ylabel(\"Коэффициент корреляции\")\n",
    "plt.title(\"Корреляция макропоказателей с ценой на арматуру\")\n",
    "plt.show()\n"
   ]
  },
  {
   "cell_type": "markdown",
   "id": "c37086c9",
   "metadata": {},
   "source": [
    "## 🔬 Проверка стационарности временного ряда"
   ]
  },
  {
   "cell_type": "code",
   "execution_count": null,
   "id": "6f2a20b3",
   "metadata": {},
   "outputs": [],
   "source": [
    "\n",
    "from statsmodels.tsa.stattools import adfuller\n",
    "\n",
    "def check_stationarity(series):\n",
    "    result = adfuller(series.dropna())\n",
    "    print(\"📌 ADF Statistic:\", result[0])\n",
    "    print(\"📌 p-value:\", result[1])\n",
    "    if result[1] < 0.05:\n",
    "        print(\"✅ Ряд стационарен (p < 0.05)\")\n",
    "    else:\n",
    "        print(\"⚠️ Ряд нестационарен (p >= 0.05)\")\n",
    "\n",
    "check_stationarity(train_df[\"Цена на арматуру\"])\n"
   ]
  },
  {
   "cell_type": "markdown",
   "id": "04235729",
   "metadata": {},
   "source": [
    "## 🔄 Преобразование данных для обучения моделей"
   ]
  },
  {
   "cell_type": "code",
   "execution_count": null,
   "id": "ef644954",
   "metadata": {},
   "outputs": [],
   "source": [
    "\n",
    "# Применяем разностное преобразование\n",
    "train_df[\"diff_price\"] = train_df[\"Цена на арматуру\"].diff()\n",
    "check_stationarity(train_df[\"diff_price\"])\n",
    "\n",
    "# Визуализируем\n",
    "plt.figure(figsize=(12, 6))\n",
    "plt.plot(train_df[\"dt\"], train_df[\"diff_price\"], label=\"Дифференцированная цена\")\n",
    "plt.xlabel(\"Дата\")\n",
    "plt.ylabel(\"Изменение цены\")\n",
    "plt.title(\"Дифференцированная цена на арматуру\")\n",
    "plt.legend()\n",
    "plt.grid()\n",
    "plt.show()\n"
   ]
  },
  {
   "cell_type": "markdown",
   "id": "29cd912f",
   "metadata": {},
   "source": [
    "## 🏗 Создание новых признаков"
   ]
  },
  {
   "cell_type": "code",
   "execution_count": null,
   "id": "f9210a86",
   "metadata": {},
   "outputs": [],
   "source": [
    "\n",
    "lags = [1, 4, 6, 8, 12]\n",
    "for lag in lags:\n",
    "    train_df[f\"lag_{lag}\"] = train_df[\"Цена на арматуру\"].shift(lag)\n",
    "\n",
    "windows = [4, 8, 12]\n",
    "for window in windows:\n",
    "    train_df[f\"rolling_mean_{window}\"] = train_df[\"Цена на арматуру\"].rolling(window).mean()\n",
    "\n",
    "train_df.dropna(inplace=True)\n",
    "train_df.head()\n"
   ]
  },
  {
   "cell_type": "markdown",
   "id": "790bd159",
   "metadata": {},
   "source": [
    "## 🤖 Обучение модели LightGBM"
   ]
  },
  {
   "cell_type": "code",
   "execution_count": null,
   "id": "e2d5fb1f",
   "metadata": {},
   "outputs": [],
   "source": [
    "\n",
    "import lightgbm as lgb\n",
    "from sklearn.model_selection import train_test_split\n",
    "from sklearn.metrics import mean_squared_error, mean_absolute_percentage_error\n",
    "\n",
    "features = [col for col in train_df.columns if col not in [\"dt\", \"Цена на арматуру\"]]\n",
    "target = \"Цена на арматуру\"\n",
    "\n",
    "X_train, X_val, y_train, y_val = train_test_split(train_df[features], train_df[target], test_size=0.2, random_state=42)\n",
    "train_data = lgb.Dataset(X_train, label=y_train)\n",
    "valid_data = lgb.Dataset(X_val, label=y_val)\n",
    "\n",
    "params = {\n",
    "    \"objective\": \"regression\",\n",
    "    \"metric\": \"rmse\",\n",
    "    \"boosting_type\": \"gbdt\",\n",
    "    \"learning_rate\": 0.05,\n",
    "    \"num_leaves\": 31,\n",
    "    \"max_depth\": 5,\n",
    "    \"verbose\": -1\n",
    "}\n",
    "\n",
    "model_lgbm = lgb.train(params, train_data, valid_sets=[valid_data], num_boost_round=500, callbacks=[lgb.early_stopping(50)])\n",
    "\n",
    "y_pred_lgbm = model_lgbm.predict(X_val)\n",
    "\n",
    "rmse_lgbm = np.sqrt(mean_squared_error(y_val, y_pred_lgbm))\n",
    "mape_lgbm = mean_absolute_percentage_error(y_val, y_pred_lgbm) * 100\n",
    "\n",
    "print(f\"📉 LightGBM RMSE: {rmse_lgbm:.2f} руб.\")\n",
    "print(f\"📊 LightGBM MAPE: {mape_lgbm:.2f}%\")\n"
   ]
  },
  {
   "cell_type": "markdown",
   "id": "b5bcd435",
   "metadata": {},
   "source": [
    "## 📌 Выводы и дальнейшие шаги"
   ]
  },
  {
   "cell_type": "markdown",
   "id": "3b8e1246",
   "metadata": {},
   "source": [
    "✅ Мы проанализировали данные, подготовили их и обучили модель LightGBM. Следующий шаг – добавить обучение LSTM на PyTorch."
   ]
  }
 ],
 "metadata": {},
 "nbformat": 4,
 "nbformat_minor": 5
}
